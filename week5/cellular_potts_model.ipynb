{
 "cells": [
  {
   "cell_type": "code",
   "execution_count": 4,
   "metadata": {},
   "outputs": [],
   "source": [
    "%matplotlib inline\n",
    "\n",
    "import numpy as np\n",
    "from numpy.random import rand\n",
    "import matplotlib.pyplot as plt"
   ]
  },
  {
   "cell_type": "markdown",
   "metadata": {},
   "source": [
    "## Monte-Carlo simulation of 2D Ising model\n",
    "The code in the first part of this exercise simulates the Ising model in 2D using the Metropolis algorithm. The main steps of the Metropolis algorithm are:\n",
    "    1. Prepare an initial configuration of N spins\n",
    "    2. Flip the spin of a randomly chosen lattice site.\n",
    "    3. Calculate the change in energy dE\n",
    "    4. if dE < 0, accept the move\n",
    "    5. if dE >= 0 accept the move with probability $$e^{-dE/T}$$\n",
    "    6. repeat 2-5"
   ]
  },
  {
   "cell_type": "code",
   "execution_count": 80,
   "metadata": {},
   "outputs": [],
   "source": [
    "class Ising():\n",
    "    ''' simulate the Ising Model '''   \n",
    "    \n",
    "    def __init__(self, N, temp):\n",
    "        self.N = N\n",
    "        self.temp = temp\n",
    "        self.states = []\n",
    "\n",
    "    def mc_move(self, config, N, beta):\n",
    "        ''' execute the monte carlo moves using Metropolis algorithm '''\n",
    "        for i in range(N):\n",
    "            for j in range(N):\n",
    "                    # choose a random lattice site\n",
    "                    a = np.random.randint(0, N)\n",
    "                    b = np.random.randint(0, N)\n",
    "                    \n",
    "                    # get the spin of this site\n",
    "                    s =  config[a, b]\n",
    "                    \n",
    "                    # get the spins of the neighbors of this site\n",
    "                    nb = config[(a+1)%N,b] + config[a,(b+1)%N] + config[(a-1)%N,b] + config[a,(b-1)%N]\n",
    "                    \n",
    "                    # this part does not entirely resemble how it is done in the exercise\n",
    "                    hamiltonian = 2*s*nb\n",
    "                    \n",
    "                    # accept if energy change is negative\n",
    "                    if hamiltonian < 0:\n",
    "                        # update spin\n",
    "                        config[a, b] = -1*s\n",
    "                    # otherwise accept if random number is smaller\n",
    "                    elif rand() < np.exp(-hamiltonian*beta):\n",
    "                        # update spin\n",
    "                        config[a, b] = -1*s\n",
    "                    \n",
    "        return config\n",
    "    \n",
    "    def simulate(self, mc_steps):\n",
    "        \"\"\" execute the monte carlo moves and save some states \"\"\"\n",
    "        \n",
    "        # initialize grid\n",
    "        i = 0\n",
    "        config = 2*np.random.randint(2, size=(self.N,self.N))-1\n",
    "        self.states.append([np.copy(config), i, 1])\n",
    "        \n",
    "        # simulate\n",
    "        for i in range(mc_steps):\n",
    "            # do a monte carlo move\n",
    "            self.mc_move(config, self.N, 1.0/self.temp)\n",
    "            \n",
    "            # save states at certain time points\n",
    "            if i == 1:       self.states.append([np.copy(config), i, 2])\n",
    "            if i == 4:       self.states.append([np.copy(config), i, 3])\n",
    "            if i == 32:      self.states.append([np.copy(config), i, 4])\n",
    "            if i == 100:     self.states.append([np.copy(config), i, 5])\n",
    "            if i == 1000:    self.states.append([np.copy(config), i, 6])\n",
    "                 \n",
    "                    \n",
    "    def plot(self):\n",
    "        \"\"\" plot the states that have been saved \"\"\"\n",
    "        \n",
    "        fig = plt.figure(figsize=(15, 15), dpi=80)\n",
    "        \n",
    "        X, Y = np.meshgrid(range(self.N), range(self.N))\n",
    "        \n",
    "        for state in self.states:\n",
    "            sp =  fig.add_subplot(3, 3, state[2] )  \n",
    "            plt.setp(sp.get_yticklabels(), visible=False)\n",
    "            plt.setp(sp.get_xticklabels(), visible=False)      \n",
    "            plt.pcolormesh(X, Y, state[0], cmap=\"Set2\")\n",
    "            i = state[1]\n",
    "            plt.title('Time=%d'%i)\n",
    "            plt.axis('tight')\n",
    "        \n",
    "        plt.show()\n",
    "        \n",
    "    def plot_final(self):\n",
    "        \"\"\" plot the final state \"\"\"\n",
    "        \n",
    "        fig, ax = plt.subplots(figsize=(5, 5), dpi=80)\n",
    "        ax.set_yticklabels([])\n",
    "        ax.set_xticklabels([])\n",
    "        X, Y = np.meshgrid(range(self.N), range(self.N))\n",
    "        \n",
    "        state = self.states[-1]   \n",
    "\n",
    "        plt.pcolormesh(X, Y, state[0], cmap=\"Set2\")\n",
    "        i = state[1]\n",
    "        plt.title('Time=%d'%i)\n",
    "        plt.axis('tight')\n",
    "        \n",
    "        plt.show()\n",
    "        "
   ]
  },
  {
   "cell_type": "code",
   "execution_count": 81,
   "metadata": {},
   "outputs": [],
   "source": [
    "N = 50 # lattice sites\n",
    "temp = .4 # temperature in the simulation\n",
    "mc_steps = 1001 # amount of monte carlo steps\n",
    "\n",
    "model = Ising(N, temp)\n",
    "model.simulate(mc_steps)"
   ]
  },
  {
   "cell_type": "code",
   "execution_count": 83,
   "metadata": {},
   "outputs": [
    {
     "data": {
      "image/png": "[encoded data removed]",
      "text/plain": [
       "<Figure size 1200x1200 with 6 Axes>"
      ]
     },
     "metadata": {
      "needs_background": "light"
     },
     "output_type": "display_data"
    },
    {
     "data": {
      "image/png": "[encoded data removed]",
      "text/plain": [
       "<Figure size 400x400 with 1 Axes>"
      ]
     },
     "metadata": {
      "needs_background": "light"
     },
     "output_type": "display_data"
    }
   ],
   "source": [
    "model.plot()\n",
    "model.plot_final()"
   ]
  },
  {
   "cell_type": "code",
   "execution_count": 88,
   "metadata": {},
   "outputs": [],
   "source": [
    "N = 50 # lattice sites\n",
    "temp = .4 # temperature in the simulation\n",
    "mc_steps = 1001 # amount of monte carlo steps\n",
    "\n",
    "model2 = Ising(N, temp)\n",
    "model2.simulate(mc_steps)"
   ]
  },
  {
   "cell_type": "code",
   "execution_count": 89,
   "metadata": {},
   "outputs": [
    {
     "data": {
      "image/png": "[encoded data removed]",
      "text/plain": [
       "<Figure size 400x400 with 1 Axes>"
      ]
     },
     "metadata": {
      "needs_background": "light"
     },
     "output_type": "display_data"
    }
   ],
   "source": [
    "model2.plot_final()"
   ]
  },
  {
   "cell_type": "markdown",
   "metadata": {},
   "source": [
    "We see different final states. The simulation can end up in entirely 1 spin type (which makes the most sense, because this has the lowest energy in nature), or in a steady state with a band of one spin type, and the rest the other type. \n",
    "\n",
    "(Two examples are needed here........ can we save initial states to be sure to end up in a certain end state?)\n",
    "\n",
    "# And then...\n",
    "After building the Ising Model in Python, we continued with the Cellular Potts model. This generalizes the Ising model from statistical mechanics and it shares its core idea of modeling dynamics based on energy minimzation under imposed fluctuations. \n",
    "\n",
    "We need now to take into account two state per cell, the cell ID and the cell type.  We associate an integer index to each lattice site to identify the space a cell occupies at any instant. The value of the index at a pixel (i, j) is k if the site lies in the cell k. Collections of pixels with the same index represent cells. We treat a cell as a set of discrete subcomponents that can rearrange to produce cell motion and shape changes. As long as we can describe a process in terms of a real or effective potential energy, we can include it in the CPM framework by adding it up to the effective energy. Cells can move up or down gradients of both diffusible chemicals (chemotaxis) and insoluble extracellular matrix molecules (haptotaxis). The CPM models chemotaxis and haptotaxis by adding a chemical potential energy, cell growth by target volumes of cells and cell division by a specific reassignment of pixes. If a proposed change in lattice configuration changes the effective energy by dE, we accept the change with probability:\n",
    "\n",
    "\n",
    "Save time: reject spin atteps inside a cell\n",
    "\n",
    "Cells can span more than one lattice site, and we need to plot the cell type and the boundaries between individual cells."
   ]
  },
  {
   "cell_type": "code",
   "execution_count": null,
   "metadata": {},
   "outputs": [],
   "source": [
    "class CellularPotts():\n",
    "    ''' simulate the CellularPotts '''   \n",
    "    \n",
    "    def __init__(self, N, temp):\n",
    "        self.N = N\n",
    "        self.temp = temp\n",
    "        self.states = []\n",
    "\n",
    "    def mc_move(self, config, N, beta):\n",
    "        ''' execute the monte carlo moves using Metropolis algorithm '''\n",
    "        for i in range(N):\n",
    "            for j in range(N):\n",
    "                    # choose a random lattice site\n",
    "                    a = np.random.randint(0, N)\n",
    "                    b = np.random.randint(0, N)\n",
    "                    \n",
    "                    # get the spin of this site\n",
    "                    s =  config[a, b]\n",
    "                    \n",
    "                    # get the spins of the neighbors of this site\n",
    "                    nb = config[(a+1)%N,b] + config[a,(b+1)%N] + config[(a-1)%N,b] + config[a,(b-1)%N]\n",
    "                    \n",
    "                    # this part does not entirely resemble how it is done in the exercise\n",
    "                    hamiltonian = 2*s*nb\n",
    "                    \n",
    "                    # accept if energy change is negative\n",
    "                    if hamiltonian < 0:\n",
    "                        # update spin\n",
    "                        config[a, b] = -1*s\n",
    "                    # otherwise accept if random number is smaller\n",
    "                    elif rand() < np.exp(-hamiltonian*beta):\n",
    "                        # update spin\n",
    "                        config[a, b] = -1*s\n",
    "                    \n",
    "        return config\n",
    "    \n",
    "    def simulate(self, mc_steps):\n",
    "        \"\"\" execute the monte carlo moves and save some states \"\"\"\n",
    "        \n",
    "        # initialize grid\n",
    "        i = 0\n",
    "        config = 2*np.random.randint(2, size=(self.N,self.N))-1\n",
    "        self.states.append([np.copy(config), i, 1])\n",
    "        \n",
    "        # simulate\n",
    "        for i in range(mc_steps):\n",
    "            # do a monte carlo move\n",
    "            self.mc_move(config, self.N, 1.0/self.temp)\n",
    "            \n",
    "            # save states at certain time points\n",
    "            if i == 1:       self.states.append([np.copy(config), i, 2])\n",
    "            if i == 4:       self.states.append([np.copy(config), i, 3])\n",
    "            if i == 32:      self.states.append([np.copy(config), i, 4])\n",
    "            if i == 100:     self.states.append([np.copy(config), i, 5])\n",
    "            if i == 1000:    self.states.append([np.copy(config), i, 6])\n",
    "                 \n",
    "                    \n",
    "    def plot(self):\n",
    "        \"\"\" plot the states that have been saved \"\"\"\n",
    "        \n",
    "        fig = plt.figure(figsize=(15, 15), dpi=80)\n",
    "        \n",
    "        X, Y = np.meshgrid(range(self.N), range(self.N))\n",
    "        \n",
    "        for state in self.states:\n",
    "            sp =  fig.add_subplot(3, 3, state[2] )  \n",
    "            plt.setp(sp.get_yticklabels(), visible=False)\n",
    "            plt.setp(sp.get_xticklabels(), visible=False)      \n",
    "            plt.pcolormesh(X, Y, state[0], cmap=\"Set2\")\n",
    "            i = state[1]\n",
    "            plt.title('Time=%d'%i)\n",
    "            plt.axis('tight')\n",
    "        \n",
    "        plt.show()\n",
    "        \n",
    "    def plot_final(self):\n",
    "        \"\"\" plot the final state \"\"\"\n",
    "        \n",
    "        fig, ax = plt.subplots(figsize=(5, 5), dpi=80)\n",
    "        ax.set_yticklabels([])\n",
    "        ax.set_xticklabels([])\n",
    "        X, Y = np.meshgrid(range(self.N), range(self.N))\n",
    "        \n",
    "        state = self.states[-1]   \n",
    "\n",
    "        plt.pcolormesh(X, Y, state[0], cmap=\"Set2\")\n",
    "        i = state[1]\n",
    "        plt.title('Time=%d'%i)\n",
    "        plt.axis('tight')\n",
    "        \n",
    "        plt.show()"
   ]
  }
 ],
 "metadata": {
  "kernelspec": {
   "display_name": "Python 3",
   "language": "python",
   "name": "python3"
  },
  "language_info": {
   "codemirror_mode": {
    "name": "ipython",
    "version": 3
   },
   "file_extension": ".py",
   "mimetype": "text/x-python",
   "name": "python",
   "nbconvert_exporter": "python",
   "pygments_lexer": "ipython3",
   "version": "3.7.0"
  }
 },
 "nbformat": 4,
 "nbformat_minor": 2
}
